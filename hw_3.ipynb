{
  "nbformat": 4,
  "nbformat_minor": 0,
  "metadata": {
    "colab": {
      "name": "hw-3.ipynb",
      "provenance": [],
      "collapsed_sections": [],
      "toc_visible": true
    },
    "kernelspec": {
      "name": "python3",
      "display_name": "Python 3"
    },
    "language_info": {
      "name": "python"
    }
  },
  "cells": [
    {
      "cell_type": "markdown",
      "metadata": {
        "id": "DdUq6KFyOst3"
      },
      "source": [
        "# Домашнее задание 3\n",
        "**Продвинутое машинное обучение**"
      ]
    },
    {
      "cell_type": "code",
      "metadata": {
        "colab": {
          "base_uri": "https://localhost:8080/"
        },
        "id": "rmQKNSylOAIP",
        "outputId": "19d6e7b0-9999-4e62-aaee-b42d05cac348"
      },
      "source": [
        "import nltk\n",
        "import numpy as np\n",
        "import random\n",
        "\n",
        "from collections import Counter\n",
        "from nltk.util import ngrams\n",
        "from random import shuffle\n",
        "\n",
        "nltk.download('punkt')"
      ],
      "execution_count": 294,
      "outputs": [
        {
          "output_type": "stream",
          "text": [
            "[nltk_data] Downloading package punkt to /root/nltk_data...\n",
            "[nltk_data]   Package punkt is already up-to-date!\n"
          ],
          "name": "stdout"
        },
        {
          "output_type": "execute_result",
          "data": {
            "text/plain": [
              "True"
            ]
          },
          "metadata": {
            "tags": []
          },
          "execution_count": 294
        }
      ]
    },
    {
      "cell_type": "markdown",
      "metadata": {
        "id": "XdGx-2jGS1Oq"
      },
      "source": [
        "## Loading and preparing data"
      ]
    },
    {
      "cell_type": "code",
      "metadata": {
        "id": "q9ghiK2zTa9T"
      },
      "source": [
        "WAR_AND_PEACE_PATH = '/content/drive/MyDrive/adv-ml/WarAndPeace.txt'\n",
        "WAR_AND_PEACE_ENG_PATH = '/content/drive/MyDrive/adv-ml/WarAndPeaceEng.txt'\n",
        "ANNA_KARENINA_PATH = '/content/drive/MyDrive/adv-ml/AnnaKarenina.txt'"
      ],
      "execution_count": 295,
      "outputs": []
    },
    {
      "cell_type": "code",
      "metadata": {
        "id": "TtMxihnoS0tO"
      },
      "source": [
        "with open(WAR_AND_PEACE_PATH, 'r') as file:\n",
        "    war_and_peace = file.read().replace('\\n', ' ')\n",
        "\n",
        "with open(WAR_AND_PEACE_ENG_PATH, 'r') as file:\n",
        "    war_and_peace_eng = file.read().replace('\\n', ' ')\n",
        "\n",
        "with open(ANNA_KARENINA_PATH, 'r') as file:\n",
        "    anna_karenina = file.read().replace('\\n', ' ')"
      ],
      "execution_count": 296,
      "outputs": []
    },
    {
      "cell_type": "code",
      "metadata": {
        "id": "9p0TF3rgdxgu"
      },
      "source": [
        "text_ru = ' '.join([war_and_peace, anna_karenina])"
      ],
      "execution_count": 297,
      "outputs": []
    },
    {
      "cell_type": "code",
      "metadata": {
        "id": "Rj99Dfi1k8vS"
      },
      "source": [
        "example_texts = ['В то время как у Ростовых танцевали в зале шестой англез под звуки от усталости фальшививших музыкантов и усталые официанты и повара готовили ужин, с графом Безуховым сделался шестой уже удар. Доктора объявили, что надежды к выздоровлению нет; больному дана была глухая исповедь и причастие; делали приготовления для соборования, и в доме была суетня и тревога ожидания, обыкновенные в такие минуты. Вне дома, за воротами, толпились, скрываясь от подъезжающих экипажей, гробовщики, ожидая богатого заказа на похороны графа.',\n",
        "                 'Пьер, решившись во всем повиноваться своей руководительнице, направился к диванчику, который она ему указала. Как только Анна Михайловна скрылась, он заметил, что взгляды всех бывших в комнате больше чем с любопытством и с участием устремились на него. Он заметил, что все перешептывались, указывая на него глазами, как будто со страхом и даже с подобострастием.',\n",
        "                 'Княжна Марья возвратилась в свою комнату с грустным, испуганным выражением, которое редко покидало ее и делало ее некрасивое, болезненное лицо еще более некрасивым, села за свой письменный стол, уставленный миниатюрными портретами и заваленный тетрадями и книгами. Княжна была столь же беспорядочна, как отец ее порядочен. Она положила тетрадь геометрии и нетерпеливо распечатала письмо.']"
      ],
      "execution_count": 298,
      "outputs": []
    },
    {
      "cell_type": "code",
      "metadata": {
        "id": "A1FgAvjdpJoy"
      },
      "source": [
        "RU_ABC = 'абвгдеёжзийклмнопрстуфхцчшщъыьэюя '"
      ],
      "execution_count": 299,
      "outputs": []
    },
    {
      "cell_type": "markdown",
      "metadata": {
        "id": "Dzjwmnf1PJEA"
      },
      "source": [
        "## 1. Базовый частотный метод по Шерлоку Холмсу\n",
        "Задачи:\n",
        "* подсчитайте частоты букв по корпусам (пунктуацию и капитализацию можно просто опустить, а вот пробелы лучше оставить);\n",
        "* возьмите какие-нибудь тестовые тексты (нужно взять по меньшей мере 2-3 предложения, иначе вряд ли сработает), зашифруйте их посредством случайной перестановки символов;\n",
        "* расшифруйте их таким частотным методом."
      ]
    },
    {
      "cell_type": "code",
      "metadata": {
        "id": "NklCQpfffaFp"
      },
      "source": [
        "def process_text(text: str) -> str:\n",
        "  text = text.lower()\n",
        "  text = ''.join([char for char in text if char in RU_ABC])\n",
        "  words = nltk.word_tokenize(text)\n",
        "  return ' '.join(words)\n",
        "\n",
        "def encrypt_text(text: str, key: list, alpha_key: list) -> str:\n",
        "  return ''.join([key[alpha_key.index(char)] for char in text])\n",
        "\n",
        "def descending_key(key_freq: Counter) -> list:\n",
        "  return [v[0] for v in key_freq.most_common()]\n",
        "\n",
        "def decrypt_text(text: str, corpus_freq: Counter) -> str:\n",
        "  text_freq = Counter(text)\n",
        "  text_freq = descending_key(text_freq)\n",
        "  corpus_freq = descending_key(corpus_freq)\n",
        "  text_freq.extend(list(set(corpus_freq) - set(text_freq)))\n",
        "\n",
        "  return ''.join([corpus_freq[text_freq.index(char)] for char in text])\n",
        "\n",
        "def get_accuracy(original_text: str, decoded_text: str) -> float:\n",
        "  text_len = len(original_text)\n",
        "  assert text_len == len(decoded_text), 'length of texts must be the same'\n",
        "  overlaps = [1 for i in range(text_len) if original_text[i] == decoded_text[i]]\n",
        "  return sum(overlaps) / text_len"
      ],
      "execution_count": 300,
      "outputs": []
    },
    {
      "cell_type": "code",
      "metadata": {
        "colab": {
          "base_uri": "https://localhost:8080/"
        },
        "id": "7lwFd3ffPPUf",
        "outputId": "ba540014-4d6c-4b84-b29b-57f765bdb594"
      },
      "source": [
        "text_ru_cleaned = process_text(text_ru)\n",
        "print(text_ru_cleaned[:200])"
      ],
      "execution_count": 301,
      "outputs": [
        {
          "output_type": "stream",
          "text": [
            "война и мир самый известный роман льва николаевича толстого как никакое другое произведение писателя отражает глубину его мироощущения и философииэта книга из разряда вечных потому что она обо всем о \n"
          ],
          "name": "stdout"
        }
      ]
    },
    {
      "cell_type": "code",
      "metadata": {
        "colab": {
          "base_uri": "https://localhost:8080/"
        },
        "id": "CkgwkunBkGM2",
        "outputId": "5e7437da-3152-453e-d297-b285a9c04c7c"
      },
      "source": [
        "# Частотность букв по корпусам\n",
        "corpus_freq = Counter(text_ru_cleaned)\n",
        "print(corpus_freq)"
      ],
      "execution_count": 302,
      "outputs": [
        {
          "output_type": "stream",
          "text": [
            "Counter({' ': 385114, 'о': 223691, 'е': 166169, 'а': 162313, 'н': 133258, 'и': 129712, 'т': 115258, 'с': 103252, 'л': 98191, 'в': 91386, 'р': 80859, 'к': 67788, 'д': 58019, 'м': 56467, 'у': 53583, 'п': 47940, 'я': 42921, 'ь': 38351, 'г': 36870, 'ы': 36447, 'б': 34028, 'з': 32723, 'ч': 31207, 'ж': 21480, 'й': 21072, 'ш': 17158, 'х': 15586, 'ю': 12307, 'э': 6648, 'ц': 6172, 'щ': 5568, 'ф': 2990, 'ъ': 695, 'ё': 462})\n"
          ],
          "name": "stdout"
        }
      ]
    },
    {
      "cell_type": "code",
      "metadata": {
        "id": "hi5kDa2Ol4aB"
      },
      "source": [
        "example_text_1 = process_text(example_texts[0])\n",
        "example_text_2 = process_text(example_texts[1])\n",
        "example_text_3 = process_text(example_texts[2])"
      ],
      "execution_count": 303,
      "outputs": []
    },
    {
      "cell_type": "code",
      "metadata": {
        "id": "btVUZHJXsQVX"
      },
      "source": [
        "# Делаем ключ для шифрования текста\n",
        "random.seed(42)\n",
        "key = list(RU_ABC)\n",
        "shuffle(key)\n",
        "alpha_key = descending_key(corpus_freq)"
      ],
      "execution_count": 304,
      "outputs": []
    },
    {
      "cell_type": "code",
      "metadata": {
        "colab": {
          "base_uri": "https://localhost:8080/"
        },
        "id": "41O3zU66pUIp",
        "outputId": "cff071cf-ece2-467f-bd82-69d078ab2b44"
      },
      "source": [
        "print(key)\n",
        "print(alpha_key)"
      ],
      "execution_count": 305,
      "outputs": [
        {
          "output_type": "stream",
          "text": [
            "['е', 'т', 'у', 'л', 'ч', 'ы', 'о', 'й', 'п', 'к', 'щ', 'н', 'ш', 'и', 'з', 'ь', 'ё', 'х', 'а', 'я', 'м', 'с', 'в', 'ю', 'ъ', 'ф', 'г', 'ц', 'д', 'э', ' ', 'р', 'б', 'ж']\n",
            "[' ', 'о', 'е', 'а', 'н', 'и', 'т', 'с', 'л', 'в', 'р', 'к', 'д', 'м', 'у', 'п', 'я', 'ь', 'г', 'ы', 'б', 'з', 'ч', 'ж', 'й', 'ш', 'х', 'ю', 'э', 'ц', 'щ', 'ф', 'ъ', 'ё']\n"
          ],
          "name": "stdout"
        }
      ]
    },
    {
      "cell_type": "code",
      "metadata": {
        "id": "nN5jq723mcao"
      },
      "source": [
        "# Зашифрованные примеры текстов\n",
        "ciphertext_1 = encrypt_text(example_text_1, key, alpha_key)\n",
        "ciphertext_2 = encrypt_text(example_text_2, key, alpha_key)\n",
        "ciphertext_3 = encrypt_text(example_text_3, key, alpha_key)"
      ],
      "execution_count": 306,
      "outputs": []
    },
    {
      "cell_type": "code",
      "metadata": {
        "colab": {
          "base_uri": "https://localhost:8080/"
        },
        "id": "lTR4d7Spo_Cc",
        "outputId": "4c61ca9d-ccd2-4240-ac49-724bb2c0cd08"
      },
      "source": [
        "print(f'Зашифрованный текст №1: \\n{ciphertext_1}')\n",
        "print(f'Зашифрованный текст №2: \\n{ciphertext_2}')\n",
        "print(f'Зашифрованный текст №3: \\n{ciphertext_3}')"
      ],
      "execution_count": 327,
      "outputs": [
        {
          "output_type": "stream",
          "text": [
            "Зашифрованный текст №1: \n",
            "кеотекщуиёенлнезещтйоткягеолчэуклпыекеслпуефуйотъелчапусеьтшескзныетоезйолптйоыерлпхфыкыкфыгеизсянлчоткеыезйолпяуетрыэылчояеыеьтклщлеатоткыпыезюычейеащлртиемусзгткяиейшуплпйёефуйотъезюуезшлщештнотщлетмбёкыпыевотечлшуюшяенекясштщткпучыцечуоемтпхчтизешлчлемяплеапзглёеыйьткушхеыеьщывлйоыуешуплпыеьщыатоткпучыёешпёейтмтщтклчыёеыекештиуемяплейзуочёеыеощукталетюышлчыёетмянчткуччяуекеолныуеиычзояекчуештилеслектщтолиыеотпьыпыйхейнщяклёйхетоеьтшбусюлц ыгедныьлюуъеащтмтк ыныетюышлёемталотатеслнлслечлеьтгтщтчяеащлрл\n",
            "Зашифрованный текст №2: \n",
            "ьхущещуфыкфыйхектекйуиеьткычтклохйёейктуъещзнтктшыоупхчыэуечльщлкыпйёенешыклчвынзентотщяъетчлеуизезнлслпленлнеотпхнтелччлеиыглъпткчлейнщяплйхетчеслиуоыпевотексапёшяекйугемякфыгекентичлоуемтпхфуевуиейепцмтьяойоктиеыейезвлйоыуиезйощуиыпыйхечлечуатетчеслиуоыпевотекйуеьущуфуьояклпыйхезнлсяклёечлечуатеаплслиыенлнемзшотейтейощлгтиеыешлюуейеьтштмтйощлйоыуи\n",
            "Зашифрованный текст №3: \n",
            "нчёючлеилщхёектскщлоыплйхекейктцентичлозейеащзйочяиеыйьзалччяиекящлюучыуиентотщтуещушнтеьтнышлптеууеыешуплптеууечунщлйыктуемтпусчуччтуепыэтеу уемтпууечунщлйыкяиейуплеслейктъеьыйхиуччяъейотпезйолкпуччяъеиычылоцщчяиыеьтщощуолиыеыеслклпуччяъеоуощлшёиыеыенчыалиыенчёючлемяплейотпхеюуемуйьтщёштвчленлнетоуэеууеьтщёштвучетчлеьтптюыплеоуощлшхеаутиуощыыеыечуоущьупыктещлйьувлолплеьыйхит\n"
          ],
          "name": "stdout"
        }
      ]
    },
    {
      "cell_type": "code",
      "metadata": {
        "id": "tHvLd9hXwGqy"
      },
      "source": [
        "# Расшифрованные тексты\n",
        "decrypt_text_1 = decrypt_text(ciphertext_1, corpus_freq)\n",
        "decrypt_text_2 = decrypt_text(ciphertext_2, corpus_freq)\n",
        "decrypt_text_3 = decrypt_text(ciphertext_3, corpus_freq)"
      ],
      "execution_count": 308,
      "outputs": []
    },
    {
      "cell_type": "code",
      "metadata": {
        "colab": {
          "base_uri": "https://localhost:8080/"
        },
        "id": "XR7gD99j0G2A",
        "outputId": "fd4d3681-69a0-4bdd-bafe-0e708a1262ac"
      },
      "source": [
        "print(f'Расшифрованный текст №1: \\n{decrypt_text_1} \\nсовпадение символов: {round(get_accuracy(example_text_1, decrypt_text_1), 2)}')\n",
        "print(f'Расшифрованный текст №2: \\n{decrypt_text_2} \\nсовпадение символов: {round(get_accuracy(example_text_2, decrypt_text_2), 2)}')\n",
        "print(f'Расшифрованный текст №3: \\n{decrypt_text_3} \\nсовпадение символов: {round(get_accuracy(example_text_3, decrypt_text_3), 2)}')"
      ],
      "execution_count": 309,
      "outputs": [
        {
          "output_type": "stream",
          "text": [
            "Расшифрованный текст №1: \n",
            "н то нвигп уеу м вортондч тесюинела н яели йиртох есьлия ыок янмуа от мртелорта шелжйананйач гмядуестон а мртелди ошаюаестд а ыоневе ьотонала мзас р ьвешог биямчондг ркилелрп йиртох мзи мкев коутове обэпнала цто секизкд у ндяковонлисащ сит болжсогм кесе бдле ьлмчеп арыоникж а ывацертаи килела ываьотонлисап клп робовонесап а н коги бдле рмитсп а твиноье озакесап обдусониссди н теуаи гасмтд нси коге яе новотега толыаларж рувднепрж от ыокэиязещфач ъуаыезих ьвобонфауа озакеп боьетоьо яеуеяе се ыочовосд ьвеше \n",
            "совпадение символов: 0.35\n",
            "Расшифрованный текст №2: \n",
            "пмад даыитыинм те тнар петилетосмнч нтеаш дукетеьисавмлиха лопдотивнч к ьитолбику кеседяш ело ару укогово кок севмке олло рижошветло нкдявонм ел горасив бсе тгйвчья тнаж зятыиж т керлоса зевмыа бар н вюзепяснстер и н убонсиар унсдаривинм ло лайе ел горасив бсе тна падаыапсятовинм укогяточ ло лайе йвогори кок зуьсе не нсдожер и ьоэа н пеьезенсдонсиар \n",
            "совпадение символов: 0.29\n",
            "Расшифрованный текст №3: \n",
            "княгне ретья даыдтесилевь д вдаш карнесб в зтбвснур ивмбзеннур дутегониор касатао топка макипела оо и полела оо ноктевидао чалоыноннао лиха оюо чалоо ноктевидур воле ые вдаж мивьроннуж всал бвседлоннуж риниесштнури матстосери и ыеделоннуж состепяри и книзери княгне чуле всаль го човматяпайне кек асох оо матяпайон ане малагиле состепь зоаростии и носотмолида тевмойеселе мивьра \n",
            "совпадение символов: 0.38\n"
          ],
          "name": "stdout"
        }
      ]
    },
    {
      "cell_type": "markdown",
      "metadata": {
        "id": "yhTwyDfs9J1X"
      },
      "source": [
        "**Вывод:** Как видно по качеству текста и по полученному скору - данный метод не эффективный."
      ]
    },
    {
      "cell_type": "markdown",
      "metadata": {
        "id": "7wy5p713PPyS"
      },
      "source": [
        "## 2. Пункт 1 с биграмамми\n",
        "Задачи:\n",
        "* подсчитайте частоты биграмм (т.е. пар последовательных букв) по корпусам;\n",
        "* проведите тестирование аналогично п.1, но при помощи биграмм"
      ]
    },
    {
      "cell_type": "code",
      "metadata": {
        "id": "9AuQ9yMCQfNC"
      },
      "source": [
        "def decrypt_text_with_ngrams(text: str, n_gram: int, origin_ngram_freq: Counter) -> str:\n",
        "  text_n_gram_freq = Counter(ngrams(list(text), n_gram))\n",
        "  text_n_gram_freq = descending_key(text_n_gram_freq)\n",
        "  origin_ngram_freq = descending_key(origin_ngram_freq)\n",
        "  text_n_gram_freq.extend(list(set(origin_ngram_freq) - set(text_n_gram_freq)))\n",
        "  end = ''.join(origin_ngram_freq[text_n_gram_freq.index(tuple(text[-2:]))])[1]\n",
        "  decrypted_text = ''.join([origin_ngram_freq[text_n_gram_freq.index(tuple(text[i:i+2]))][0] \n",
        "                  for i in range(len(text)) if i < len(text) - 1]) + end\n",
        "  return decrypted_text"
      ],
      "execution_count": 310,
      "outputs": []
    },
    {
      "cell_type": "code",
      "metadata": {
        "id": "1mF2NEFLPi6E"
      },
      "source": [
        "# Частотность биграм по корпусам и примера текста с лучшим скором из пункта 1\n",
        "n_gram = 2\n",
        "text_ngram_freq = Counter(ngrams(list(text_ru_cleaned), n_gram))\n",
        "example_text_ngram_freq = Counter(ngrams(list(example_text_3), n_gram))"
      ],
      "execution_count": 311,
      "outputs": []
    },
    {
      "cell_type": "code",
      "metadata": {
        "colab": {
          "base_uri": "https://localhost:8080/"
        },
        "id": "m3yN-W3YN7_b",
        "outputId": "c5d6d277-48c8-42f4-f01f-426087b9a5c2"
      },
      "source": [
        "print(f'Количество биграм в оригинальных корпусах: {len(text_ngram_freq)}')\n",
        "print(f'Количество биграм в тексте: {len(example_text_ngram_freq)}')"
      ],
      "execution_count": 312,
      "outputs": [
        {
          "output_type": "stream",
          "text": [
            "Количество биграм в оригинальных корпусах: 854\n",
            "Количество биграм в тексте: 170\n"
          ],
          "name": "stdout"
        }
      ]
    },
    {
      "cell_type": "code",
      "metadata": {
        "id": "GJ8HFr9pRPHc"
      },
      "source": [
        "decrypted_text = decrypt_text_with_ngrams(ciphertext_3, n_gram, text_ngram_freq)"
      ],
      "execution_count": 313,
      "outputs": []
    },
    {
      "cell_type": "code",
      "metadata": {
        "colab": {
          "base_uri": "https://localhost:8080/",
          "height": 67
        },
        "id": "L0pIuq5MY50C",
        "outputId": "aae6aa4d-13c9-40e7-ca44-42ff7454353e"
      },
      "source": [
        "# Полученный результат\n",
        "decrypted_text"
      ],
      "execution_count": 314,
      "outputs": [
        {
          "output_type": "execute_result",
          "data": {
            "application/vnd.google.colaboratory.intrinsic+json": {
              "type": "string"
            },
            "text/plain": [
              "'влвр озсиети ядаееглн пру ю тя о осв гчм ота  кс окнпонсосс ок лнема  хмк окл  тароикоьт эиммооьнланитте ооьнлаейитепдояталанранй сатаресвьныеаланрлаейитепдолок ае ооыо тяе твправ с в  клнси к дор с в заи  гдшх оаит  чеон  аиниоыдпор с в амнеечеааини в но аи влвр ол б о клнбуеаалзоо    бжс о идлекмиинлат    бжс сед от ношун оамнеечиутиусвнеодиниейнмег ееояьрепо отг о отвпракр'"
            ]
          },
          "metadata": {
            "tags": []
          },
          "execution_count": 314
        }
      ]
    },
    {
      "cell_type": "code",
      "metadata": {
        "colab": {
          "base_uri": "https://localhost:8080/"
        },
        "id": "VihS8ZDIY-kM",
        "outputId": "c71ff338-8d59-4586-dfca-47debf50a29b"
      },
      "source": [
        "print(f'Совпадение букв при использовании биграмм: {round(get_accuracy(example_text_3, decrypted_text), 2)}')"
      ],
      "execution_count": 315,
      "outputs": [
        {
          "output_type": "stream",
          "text": [
            "Совпадение букв при использовании биграмм: 0.07\n"
          ],
          "name": "stdout"
        }
      ]
    },
    {
      "cell_type": "markdown",
      "metadata": {
        "id": "D0lWkY8BaMf6"
      },
      "source": [
        "**Вывод:** данный метод показывает результат хуже чем частотный метод по символам, что не удивительно — большая разница между количеством биграмм полученных из корпусов и примера текста, из за чего:\n",
        "1. Проблематично сопоставить частотное распределение биграмм, так как в коротком тексте их слишком мало.\n",
        "2. Появляется больше ошибок из за несоответсвия частотного распредления биграмм."
      ]
    },
    {
      "cell_type": "markdown",
      "metadata": {
        "id": "3Ab0QEmXPjWN"
      },
      "source": [
        "## 3. Метод обучения на основе MCMC-сэмплировании\n",
        "Задачи:\n",
        "* предложите метод обучения перестановки символов в этом задании, основанный на MCMC-сэмплировании, но по-прежнему работающий на основе статистики биграмм;\n",
        "* реализуйте и протестируйте его, убедитесь, что результаты улучшились."
      ]
    },
    {
      "cell_type": "markdown",
      "metadata": {
        "id": "56IG9YWJfFwW"
      },
      "source": [
        "**Комментарий:**\n",
        "Можем рассмотреть текст поделенный на биграммы как Марковскую цепь, где вероятностями перехода по цепи и будут частоты биграмм.\n",
        "\n",
        "Для обучения перестановки ключа шифрования будем считать вероятность пораждения заданного текста как произведение вероятностей биграмм заданного текста.\n",
        "\n",
        "Так как количество возможных перестановок порядка 10 в 34 степени, то для оптимизации воспользуемся MCMC-сэмплированием.\n",
        "\n",
        "Алгоритм действий:\n",
        "1. Выбираем рандомный ключ шифрования.\n",
        "2. Расшифровываем текст с текущим ключом и новым ключем с одной перестановкой.\n",
        "3. Используя скоринговую функцию высчитываем скоры для результатов с использованием текущего и нового ключа.\n",
        "4. Если скор с новым ключом лучше, то делаем его текущим.\n",
        "5. В противном случае \"подбрасываем монетку\" (число от 0 до 1) и если оно меньше отношения скора с новым ключом к скору с текущим ключом, то делаем новый ключ текущим.\n",
        "6. Повторяем с шага 2."
      ]
    },
    {
      "cell_type": "code",
      "metadata": {
        "id": "nByavm--PybM"
      },
      "source": [
        "def decrypt_text_with_key(text: str, key: list,  alpha_key: list) -> str:\n",
        "  key.extend(list(set(alpha_key) - set(key)))\n",
        "  return ''.join([alpha_key[key.index(char)] for char in text])\n",
        "\n",
        "def get_score(text: str,\n",
        "               key: list, \n",
        "               alpha_key: list, \n",
        "               n_gram: int, \n",
        "               corpus_ngram_freq: Counter) -> float:\n",
        "  score = 0\n",
        "  decrypted_text = decrypt_text_with_key(text, key, alpha_key)\n",
        "  decrypted_text_ngram_freq = Counter(ngrams(list(decrypted_text), n_gram))\n",
        "  for ngram in decrypted_text_ngram_freq:\n",
        "    if ngram not in corpus_ngram_freq:\n",
        "      score += decrypted_text_ngram_freq[ngram] * np.log(0.75)\n",
        "      continue\n",
        "    score += decrypted_text_ngram_freq[ngram] * np.log(corpus_ngram_freq[ngram])\n",
        "  return score\n",
        "\n",
        "def update_key(key: list) -> list:\n",
        "  new_key = key.copy()\n",
        "  up_val = len(key)\n",
        "  a_idx = np.random.randint(-1, up_val)\n",
        "  b_idx = np.random.randint(-1, up_val)\n",
        "  if a_idx == b_idx:\n",
        "    return update_key(new_key)\n",
        "  new_key[a_idx], new_key[b_idx] = new_key[b_idx], new_key[a_idx]\n",
        "  return new_key\n",
        "\n",
        "def mcmc_decrypting(ciphertext: str,\n",
        "                    alpha_key: list, \n",
        "                    n_gram: int, \n",
        "                    text_ngram_freq: Counter,\n",
        "                    tries: int,\n",
        "                    iters: int) -> float:\n",
        "  best_key = None\n",
        "  best_score = 0\n",
        "\n",
        "  for _ in range(tries):\n",
        "\n",
        "    cur_key = descending_key(Counter(ciphertext))\n",
        "\n",
        "    for _ in range(iters):\n",
        "      new_key = update_key(cur_key)\n",
        "      cur_score = get_score(ciphertext, cur_key, alpha_key, n_gram, text_ngram_freq)\n",
        "      new_score = get_score(ciphertext, new_key, alpha_key, n_gram, text_ngram_freq)\n",
        "      if new_score == cur_score:\n",
        "        continue\n",
        "      if np.exp(new_score - cur_score) > np.random.rand():\n",
        "        cur_key = new_key\n",
        "      if new_score > best_score:\n",
        "        best_score = new_score\n",
        "        best_key = cur_key\n",
        "  \n",
        "  return best_key, best_score"
      ],
      "execution_count": 367,
      "outputs": []
    },
    {
      "cell_type": "code",
      "metadata": {
        "id": "gStF6FQAWTzo"
      },
      "source": [
        "n_gram = 2\n",
        "tries = 3\n",
        "iters = 20000\n",
        "ciphertext = ciphertext_3\n",
        "\n",
        "best_key, best_score = mcmc_decrypting(ciphertext, alpha_key, n_gram, text_ngram_freq, tries, iters)"
      ],
      "execution_count": 368,
      "outputs": []
    },
    {
      "cell_type": "code",
      "metadata": {
        "colab": {
          "base_uri": "https://localhost:8080/"
        },
        "id": "lGbi_6o4FwWt",
        "outputId": "ab929692-6126-4bc2-a5b2-c9add80e9314"
      },
      "source": [
        "print(f'Скор с исходным ключом шифрования: {round(get_score(ciphertext, key, alpha_key, n_gram, text_ngram_freq), 2)}')\n",
        "print(f'Лучший скор в результате обучения: {round(best_score, 2)}')"
      ],
      "execution_count": 369,
      "outputs": [
        {
          "output_type": "stream",
          "text": [
            "Скор с исходным ключом шифрования: 3432.64\n",
            "Лучший скор в результате обучения: 3442.48\n"
          ],
          "name": "stdout"
        }
      ]
    },
    {
      "cell_type": "code",
      "metadata": {
        "colab": {
          "base_uri": "https://localhost:8080/",
          "height": 67
        },
        "id": "xwrwEN1eBzZ_",
        "outputId": "73dfdf97-9fc7-446a-c572-34e9e3a38103"
      },
      "source": [
        "# Получаем расшифрованный текст\n",
        "decrypt_text_with_key(ciphertext, best_key, alpha_key)"
      ],
      "execution_count": 370,
      "outputs": [
        {
          "output_type": "execute_result",
          "data": {
            "application/vnd.google.colaboratory.intrinsic+json": {
              "type": "string"
            },
            "text/plain": [
              "'княжна марья возвратилась в свою комнату с чрустным испучанным выражением которое редко покидало ее и делало ее некрасивое болезненное лихо еше более некрасивым села за свой письменный стол уставленный миниатюрными портретами и заваленный тетрадями и кничами княжна была столь же беспорядогна как отех ее порядоген она положила тетрадь чеометрии и нетерпеливо распегатала письмо'"
            ]
          },
          "metadata": {
            "tags": []
          },
          "execution_count": 370
        }
      ]
    },
    {
      "cell_type": "markdown",
      "metadata": {
        "id": "M71Q9kdgyDDD"
      },
      "source": [
        "**Вывод:**\n",
        "Как видим, в результате обучения зашифрованный текст получилось полностью расшифровать и прочитать."
      ]
    },
    {
      "cell_type": "markdown",
      "metadata": {
        "id": "KEaRrCMtPzFV"
      },
      "source": [
        "## 4. Расшифровка сообщения\n",
        "Задача — расшифровать сообщение:\n",
        "←⇠⇒↟↹↷⇊↹↷↟↤↟↨←↹↝⇛⇯↳⇴⇒⇈↝⇊↾↹↟⇒↟↹⇷⇛⇞↨↟↹↝⇛⇯↳⇴⇒⇈↝⇊↾↹↨←⇌⇠↨↹⇙↹⇸↨⇛↙⇛↹⇠⇛⇛↲⇆←↝↟↞↹⇌⇛↨⇛⇯⇊↾↹⇒←↙⇌⇛↹⇷⇯⇛⇞↟↨⇴↨⇈↹⇠⇌⇛⇯←←↹↷⇠←↙⇛↹↷⇊↹↷⇠←↹⇠↤←⇒⇴⇒↟↹⇷⇯⇴↷↟⇒⇈↝⇛↹↟↹⇷⇛⇒⇙⇞↟↨←↹↳⇴⇌⇠↟↳⇴⇒⇈↝⇊↾↹↲⇴⇒⇒↹⇰⇴↹⇷⇛⇠⇒←↤↝←←↹⇞←↨↷←⇯↨⇛←↹⇰⇴↤⇴↝↟←↹⇌⇙⇯⇠⇴↹↘⇛↨↞↹⇌⇛↝←⇞↝⇛↹↞↹↝↟⇞←↙⇛↹↝←↹⇛↲←⇆⇴⇏"
      ]
    },
    {
      "cell_type": "code",
      "metadata": {
        "id": "cBYVfGIOP6j6"
      },
      "source": [
        "ciphertext_4 = '←⇠⇒↟↹↷⇊↹↷↟↤↟↨←↹↝⇛⇯↳⇴⇒⇈↝⇊↾↹↟⇒↟↹⇷⇛⇞↨↟↹↝⇛⇯↳⇴⇒⇈↝⇊↾↹↨←⇌⇠↨↹⇙↹⇸↨⇛↙⇛↹⇠⇛⇛↲⇆←↝↟↞↹⇌⇛↨⇛⇯⇊↾↹⇒←↙⇌⇛↹⇷⇯⇛⇞↟↨⇴↨⇈↹⇠⇌⇛⇯←←↹↷⇠←↙⇛↹↷⇊↹↷⇠←↹⇠↤←⇒⇴⇒↟↹⇷⇯⇴↷↟⇒⇈↝⇛↹↟↹⇷⇛⇒⇙⇞↟↨←↹↳⇴⇌⇠↟↳⇴⇒⇈↝⇊↾↹↲⇴⇒⇒↹⇰⇴↹⇷⇛⇠⇒←↤↝←←↹⇞←↨↷←⇯↨⇛←↹⇰⇴↤⇴↝↟←↹⇌⇙⇯⇠⇴↹↘⇛↨↞↹⇌⇛↝←⇞↝⇛↹↞↹↝↟⇞←↙⇛↹↝←↹⇛↲←⇆⇴⇏'"
      ],
      "execution_count": 371,
      "outputs": []
    },
    {
      "cell_type": "code",
      "metadata": {
        "colab": {
          "base_uri": "https://localhost:8080/"
        },
        "id": "yA_XZhFm1LbI",
        "outputId": "41756421-f14f-41ba-f038-bce9a1bc29ff"
      },
      "source": [
        "ciphertext_freq = descending_key(Counter(ciphertext_4))\n",
        "print(ciphertext_freq)"
      ],
      "execution_count": 381,
      "outputs": [
        {
          "output_type": "stream",
          "text": [
            "['↹', '←', '⇛', '↟', '⇒', '↝', '⇴', '↨', '⇠', '⇯', '↷', '⇌', '⇊', '⇞', '⇈', '⇷', '↤', '↳', '↾', '↙', '⇙', '↲', '↞', '⇆', '⇰', '⇸', '↘', '⇏']\n"
          ],
          "name": "stdout"
        }
      ]
    },
    {
      "cell_type": "code",
      "metadata": {
        "colab": {
          "base_uri": "https://localhost:8080/"
        },
        "id": "8Zw2-Omj11Gk",
        "outputId": "c36b9c46-461b-445a-be1c-1057ede79c35"
      },
      "source": [
        "converted = decrypt_text_with_key(ciphertext_4, ciphertext_freq, alpha_key)\n",
        "print(converted)"
      ],
      "execution_count": 382,
      "outputs": [
        {
          "output_type": "stream",
          "text": [
            "олна рд раяасо иевьтнуидг ана пемса иевьтнуидг соклс б шсеые леезжоиач кесевдг ноыке пвемастсу лкевоо рлоые рд рло ляонтна пвтрануие а пенбмасо ьтклаьтнуидг зтнн йт пелнояиоо мосровсео йтятиао кбвлт хесч кеиомие ч иамоые ио езожтю\n"
          ],
          "name": "stdout"
        }
      ]
    },
    {
      "cell_type": "code",
      "metadata": {
        "id": "qlD8-ZNXz8wt"
      },
      "source": [
        "tries = 5\n",
        "iters = 30000\n",
        "best_key_4, _ = mcmc_decrypting(converted, alpha_key, n_gram, text_ngram_freq, tries, iters)"
      ],
      "execution_count": 385,
      "outputs": []
    },
    {
      "cell_type": "code",
      "metadata": {
        "colab": {
          "base_uri": "https://localhost:8080/"
        },
        "id": "MMcK0yII2WLe",
        "outputId": "76532f66-4bde-4e16-b201-da1d152b34a5"
      },
      "source": [
        "# Расшифрованное сообщение\n",
        "message = decrypt_text_with_key(converted, best_key_4, alpha_key)\n",
        "print(message)"
      ],
      "execution_count": 391,
      "outputs": [
        {
          "output_type": "stream",
          "text": [
            "если вы вимите нордальный или почти нордальный текст у этого сообщения который легко прочитать скорее всего вы все смелали правильно и получите даксидальный балл за послемнее четвертое замание курса хотя конечно я ничего не обещаж\n"
          ],
          "name": "stdout"
        }
      ]
    },
    {
      "cell_type": "code",
      "metadata": {
        "id": "6tCk3YPF4XKo"
      },
      "source": [
        "original_message = 'если вы видите нормальный или почти нормальный текст у этого сообщения который легко прочитать скорее всего вы все сделали правильно и получите максимальный балл за последнее четвертое задание курса хотя конечно я ничего не обещаю'"
      ],
      "execution_count": 392,
      "outputs": []
    },
    {
      "cell_type": "code",
      "metadata": {
        "colab": {
          "base_uri": "https://localhost:8080/"
        },
        "id": "8FjUTOlO4Jmt",
        "outputId": "61f24b85-8f75-4081-9ab6-c73a4e97c2b6"
      },
      "source": [
        "print(f'Точность определения: {round(get_accuracy(original_message, message), 2)}')"
      ],
      "execution_count": 393,
      "outputs": [
        {
          "output_type": "stream",
          "text": [
            "Точность определения: 0.96\n"
          ],
          "name": "stdout"
        }
      ]
    },
    {
      "cell_type": "markdown",
      "metadata": {
        "id": "bIG3osLk4ywG"
      },
      "source": [
        "**Комментарий:** у нас получилось почти идеально расшифровать зашифрованное сообщение. Для 100% точности не хватает 1ой перестановки"
      ]
    },
    {
      "cell_type": "markdown",
      "metadata": {
        "id": "llGFzF025mFd"
      },
      "source": [
        "## 5. Пробуем использовать n-граммы\n",
        "Вопросы: а что если от биграмм перейти к триграммам (тройкам букв) или даже больше? Улучшатся ли результаты?"
      ]
    },
    {
      "cell_type": "markdown",
      "metadata": {
        "id": "Yp_lYYte7sA9"
      },
      "source": [
        "Попробуем добиться 100% точности расшифровки сообщения с помощью триграмм"
      ]
    },
    {
      "cell_type": "code",
      "metadata": {
        "id": "UVUKoupx59XL"
      },
      "source": [
        "n_gram = 3\n",
        "tries = 3\n",
        "iters = 20000\n",
        "text_ngram_freq = Counter(ngrams(list(text_ru_cleaned), n_gram))\n",
        "best_key_5, _ = mcmc_decrypting(converted, alpha_key, n_gram, text_ngram_freq, tries, iters)"
      ],
      "execution_count": 390,
      "outputs": []
    },
    {
      "cell_type": "code",
      "metadata": {
        "colab": {
          "base_uri": "https://localhost:8080/"
        },
        "id": "dAPezOGs7k7q",
        "outputId": "b9fdc3d3-95d3-49e7-df79-5d060f9aeef6"
      },
      "source": [
        "message = decrypt_text_with_key(converted, best_key_5, alpha_key)\n",
        "print(message)"
      ],
      "execution_count": 394,
      "outputs": [
        {
          "output_type": "stream",
          "text": [
            "если вы видите нормальный или почти нормальный текст у этого сообщения который легко прочитать скорее всего вы все сделали правильно и получите максимальный балл за последнее четвертое задание курса хотя конечно я ничего не обещаю\n"
          ],
          "name": "stdout"
        }
      ]
    },
    {
      "cell_type": "code",
      "metadata": {
        "colab": {
          "base_uri": "https://localhost:8080/"
        },
        "id": "t2Stgsqp72Ma",
        "outputId": "e4a8a599-f96e-46c2-f349-1610c5b5836c"
      },
      "source": [
        "print(f'Точность определения: {round(get_accuracy(original_message, message), 2)}')"
      ],
      "execution_count": 395,
      "outputs": [
        {
          "output_type": "stream",
          "text": [
            "Точность определения: 1.0\n"
          ],
          "name": "stdout"
        }
      ]
    },
    {
      "cell_type": "markdown",
      "metadata": {
        "id": "tuRZPdNA7pmg"
      },
      "source": [
        "Триграммы помогли нам полностью расшифровать сообщение без потери качества. Посмотрим на эффективность использования n-грамм на примере текста из 1-го пункта."
      ]
    },
    {
      "cell_type": "code",
      "metadata": {
        "id": "tvkeNtyv-ufY"
      },
      "source": [
        "import time"
      ],
      "execution_count": 396,
      "outputs": []
    },
    {
      "cell_type": "code",
      "metadata": {
        "id": "ZPceTifB8K-T"
      },
      "source": [
        "def print_ngram_scores(original_text: str, ciphertext: str, alpha_key: list, n_grams: list, tries: int, iters_list: list):\n",
        "  \n",
        "  for n_gram in n_grams:\n",
        "    print(f'CHECKING RESULTS FOR N_GRAM = {n_gram} with {tries} tries')\n",
        "    text_ngram_freq = Counter(ngrams(list(text_ru_cleaned), n_gram))\n",
        "\n",
        "    for iters in iters_list:\n",
        "      accuracy = []\n",
        "      execution_time = []\n",
        "      for _ in range(tries):        \n",
        "        start_time = time.time()\n",
        "        best_key, _ = mcmc_decrypting(ciphertext, alpha_key, n_gram, text_ngram_freq, 1, iters)\n",
        "        decrypted_text = decrypt_text_with_key(ciphertext, best_key, alpha_key)\n",
        "        accuracy.append(get_accuracy(original_text, decrypted_text))\n",
        "        execution_time.append(time.time() - start_time)\n",
        "      print(f'For {iters} iters: mean accuracy {round(np.mean(accuracy), 3)} in avarege {np.mean(execution_time)} sec')\n",
        "\n",
        "    print('==============================================')"
      ],
      "execution_count": 403,
      "outputs": []
    },
    {
      "cell_type": "code",
      "metadata": {
        "colab": {
          "base_uri": "https://localhost:8080/"
        },
        "id": "s4qJJCTF_Xzq",
        "outputId": "372489af-aa61-4206-8b27-ae155a4a43e7"
      },
      "source": [
        "n_grams = [2, 3, 4]\n",
        "tries = 5\n",
        "iters_list = [100, 500, 1000, 3000, 5000, 8000, 12000, 20000]\n",
        "print_ngram_scores(example_text_3, ciphertext_3, alpha_key, n_grams, tries, iters_list)"
      ],
      "execution_count": 405,
      "outputs": [
        {
          "output_type": "stream",
          "text": [
            "CHECKING RESULTS FOR N_GRAM = 2 with 5 tries\n",
            "For 100 iters: mean accuracy 0.37 in avarege 0.14518232345581056 sec\n",
            "For 500 iters: mean accuracy 0.47 in avarege 0.7091013431549072 sec\n",
            "For 1000 iters: mean accuracy 0.485 in avarege 1.4279993057250977 sec\n",
            "For 3000 iters: mean accuracy 0.743 in avarege 4.280170822143555 sec\n",
            "For 5000 iters: mean accuracy 0.86 in avarege 7.12191333770752 sec\n",
            "For 8000 iters: mean accuracy 0.841 in avarege 11.401575469970703 sec\n",
            "For 12000 iters: mean accuracy 0.868 in avarege 17.100476789474488 sec\n",
            "For 20000 iters: mean accuracy 0.824 in avarege 28.515150594711304 sec\n",
            "==============================================\n",
            "CHECKING RESULTS FOR N_GRAM = 3 with 5 tries\n",
            "For 100 iters: mean accuracy 0.462 in avarege 0.19246377944946289 sec\n",
            "For 500 iters: mean accuracy 0.505 in avarege 0.9744288921356201 sec\n",
            "For 1000 iters: mean accuracy 0.691 in avarege 1.9775525093078614 sec\n",
            "For 3000 iters: mean accuracy 0.824 in avarege 5.905860853195191 sec\n",
            "For 5000 iters: mean accuracy 0.998 in avarege 9.824980354309082 sec\n",
            "For 8000 iters: mean accuracy 0.904 in avarege 15.694495105743409 sec\n",
            "For 12000 iters: mean accuracy 1.0 in avarege 23.58580641746521 sec\n",
            "For 20000 iters: mean accuracy 1.0 in avarege 39.535864686965944 sec\n",
            "==============================================\n",
            "CHECKING RESULTS FOR N_GRAM = 4 with 5 tries\n",
            "For 100 iters: mean accuracy 0.384 in avarege 0.20289945602416992 sec\n",
            "For 500 iters: mean accuracy 0.558 in avarege 1.0415501594543457 sec\n",
            "For 1000 iters: mean accuracy 0.788 in avarege 2.1036736965179443 sec\n",
            "For 3000 iters: mean accuracy 0.983 in avarege 6.532543087005616 sec\n",
            "For 5000 iters: mean accuracy 1.0 in avarege 10.893141651153565 sec\n",
            "For 8000 iters: mean accuracy 1.0 in avarege 17.506283855438234 sec\n",
            "For 12000 iters: mean accuracy 1.0 in avarege 26.255958223342894 sec\n",
            "For 20000 iters: mean accuracy 1.0 in avarege 43.80487499237061 sec\n",
            "==============================================\n"
          ],
          "name": "stdout"
        }
      ]
    },
    {
      "cell_type": "markdown",
      "metadata": {
        "id": "Wt4Kn9LJHV1A"
      },
      "source": [
        "**Выводы:** на примере текста из первого пункта видим, что чем больше n-грамма используется, тем эффективнее модель. Не смотря на то, что большая n-грамма в среднем требует больше времени на исполнение 1 итерации, это компенсируется тем, что точность расшифровки получается выше за меньшее количество итераций (и времени соответственно).\n",
        "\n",
        "* биграммы - точность 82% за 20к итераций (28,5 сек)\n",
        "* триграммы - точность 100% менее чем за 12к итераций (23,6 сек)\n",
        "* 4-граммы - точность 100% менее чем за 5к итераций (10,9 сек)\n",
        "\n",
        "Вероятно, проблемы будут возникать при небольших текстах, так как число n-грамм будет формироваться меньше."
      ]
    },
    {
      "cell_type": "markdown",
      "metadata": {
        "id": "JrA5BLchC9so"
      },
      "source": [
        "## 6. Какие вы можете придумать применения для этой модели?"
      ]
    },
    {
      "cell_type": "markdown",
      "metadata": {
        "id": "VUw8KCdCDLn2"
      },
      "source": [
        "1. Возможно, данную модель можно применить в социальной сфере, например, для анализа каких-либо общих паттернов поведения людей, если вместо символа использовать какое-либо событие, совершенное конкретным человеком.\n",
        "2. Возможно использование данного метода, чтобы привести данные к единному ввиду, например, разные характеристики по наименованию привести к единным по сути. И уже обработанные данные использовать в машинном обучении.\n"
      ]
    }
  ]
}