{
  "nbformat": 4,
  "nbformat_minor": 0,
  "metadata": {
    "colab": {
      "name": "hw-3.ipynb",
      "provenance": [],
      "collapsed_sections": [],
      "toc_visible": true
    },
    "kernelspec": {
      "name": "python3",
      "display_name": "Python 3"
    },
    "language_info": {
      "name": "python"
    }
  },
  "cells": [
    {
      "cell_type": "markdown",
      "metadata": {
        "id": "DdUq6KFyOst3"
      },
      "source": [
        "# Домашнее задание 3\n",
        "**Продвинутое машинное обучение**"
      ]
    },
    {
      "cell_type": "code",
      "metadata": {
        "colab": {
          "base_uri": "https://localhost:8080/"
        },
        "id": "rmQKNSylOAIP",
        "outputId": "eb42f64b-dd51-4f6d-ebcd-77b3207ab142"
      },
      "source": [
        "import nltk\n",
        "import numpy as np\n",
        "import random\n",
        "\n",
        "from collections import Counter\n",
        "from nltk.util import ngrams\n",
        "from random import shuffle\n",
        "\n",
        "nltk.download('punkt')"
      ],
      "execution_count": 83,
      "outputs": [
        {
          "output_type": "stream",
          "text": [
            "[nltk_data] Downloading package punkt to /root/nltk_data...\n",
            "[nltk_data]   Package punkt is already up-to-date!\n"
          ],
          "name": "stdout"
        },
        {
          "output_type": "execute_result",
          "data": {
            "text/plain": [
              "True"
            ]
          },
          "metadata": {
            "tags": []
          },
          "execution_count": 83
        }
      ]
    },
    {
      "cell_type": "markdown",
      "metadata": {
        "id": "XdGx-2jGS1Oq"
      },
      "source": [
        "## Loading and preparing data"
      ]
    },
    {
      "cell_type": "code",
      "metadata": {
        "id": "q9ghiK2zTa9T"
      },
      "source": [
        "WAR_AND_PEACE_PATH = '/content/drive/MyDrive/adv-ml/WarAndPeace.txt'\n",
        "WAR_AND_PEACE_ENG_PATH = '/content/drive/MyDrive/adv-ml/WarAndPeaceEng.txt'\n",
        "ANNA_KARENINA_PATH = '/content/drive/MyDrive/adv-ml/AnnaKarenina.txt'"
      ],
      "execution_count": 2,
      "outputs": []
    },
    {
      "cell_type": "code",
      "metadata": {
        "id": "TtMxihnoS0tO"
      },
      "source": [
        "with open(WAR_AND_PEACE_PATH, 'r') as file:\n",
        "    war_and_peace = file.read().replace('\\n', ' ')\n",
        "\n",
        "with open(WAR_AND_PEACE_ENG_PATH, 'r') as file:\n",
        "    war_and_peace_eng = file.read().replace('\\n', ' ')\n",
        "\n",
        "with open(ANNA_KARENINA_PATH, 'r') as file:\n",
        "    anna_karenina = file.read().replace('\\n', ' ')"
      ],
      "execution_count": 18,
      "outputs": []
    },
    {
      "cell_type": "code",
      "metadata": {
        "id": "9p0TF3rgdxgu"
      },
      "source": [
        "text_ru = ' '.join([war_and_peace, anna_karenina])"
      ],
      "execution_count": 35,
      "outputs": []
    },
    {
      "cell_type": "code",
      "metadata": {
        "id": "Rj99Dfi1k8vS"
      },
      "source": [
        "example_texts = ['В то время как у Ростовых танцевали в зале шестой англез под звуки от усталости фальшививших музыкантов и усталые официанты и повара готовили ужин, с графом Безуховым сделался шестой уже удар. Доктора объявили, что надежды к выздоровлению нет; больному дана была глухая исповедь и причастие; делали приготовления для соборования, и в доме была суетня и тревога ожидания, обыкновенные в такие минуты. Вне дома, за воротами, толпились, скрываясь от подъезжающих экипажей, гробовщики, ожидая богатого заказа на похороны графа.',\n",
        "                 'Пьер, решившись во всем повиноваться своей руководительнице, направился к диванчику, который она ему указала. Как только Анна Михайловна скрылась, он заметил, что взгляды всех бывших в комнате больше чем с любопытством и с участием устремились на него. Он заметил, что все перешептывались, указывая на него глазами, как будто со страхом и даже с подобострастием.',\n",
        "                 'Княжна Марья возвратилась в свою комнату с грустным, испуганным выражением, которое редко покидало ее и делало ее некрасивое, болезненное лицо еще более некрасивым, села за свой письменный стол, уставленный миниатюрными портретами и заваленный тетрадями и книгами. Княжна была столь же беспорядочна, как отец ее порядочен. Она положила тетрадь геометрии и нетерпеливо распечатала письмо.']"
      ],
      "execution_count": 61,
      "outputs": []
    },
    {
      "cell_type": "code",
      "metadata": {
        "id": "A1FgAvjdpJoy"
      },
      "source": [
        "RU_ABC = 'абвгдеёжзийклмнопрстуфхцчшщъыьэюя '"
      ],
      "execution_count": 66,
      "outputs": []
    },
    {
      "cell_type": "markdown",
      "metadata": {
        "id": "Dzjwmnf1PJEA"
      },
      "source": [
        "## 1. Базовый частотный метод по Шерлоку Холмсу\n",
        "Задачи:\n",
        "* подсчитайте частоты букв по корпусам (пунктуацию и капитализацию можно просто опустить, а вот пробелы лучше оставить);\n",
        "* возьмите какие-нибудь тестовые тексты (нужно взять по меньшей мере 2-3 предложения, иначе вряд ли сработает), зашифруйте их посредством случайной перестановки символов;\n",
        "* расшифруйте их таким частотным методом."
      ]
    },
    {
      "cell_type": "code",
      "metadata": {
        "id": "NklCQpfffaFp"
      },
      "source": [
        "def process_text(text: str) -> str:\n",
        "  text = text.lower()\n",
        "  text = ''.join([char for char in text if char in RU_ABC])\n",
        "  words = nltk.word_tokenize(text)\n",
        "  return ' '.join(words)\n",
        "\n",
        "def encrypt_text(text: str, key: list) -> str:\n",
        "  alph = list(RU_ABC)\n",
        "  return ''.join([key[alph.index(char)] for char in text])\n",
        "\n",
        "def decrypt_text(text: str, corpus_freq: Counter) -> str:\n",
        "  text_freq = Counter(text)\n",
        "  text_freq = [v[0] for v in text_freq.most_common()]\n",
        "  corpus_freq = [v[0] for v in corpus_freq.most_common()]\n",
        "  text_freq.extend(list(set(corpus_freq) - set(text_freq)))\n",
        "\n",
        "  return ''.join([corpus_freq[text_freq.index(char)] for char in text])\n",
        "\n",
        "def get_accuracy(original_text: str, decoded_text: str) -> float:\n",
        "  text_len = len(original_text)\n",
        "  assert text_len == len(decoded_text), 'length of texts must be the same'\n",
        "  overlaps = [1 for i in range(text_len) if original_text[i] == decoded_text[i]]\n",
        "  return sum(overlaps) / text_len"
      ],
      "execution_count": 200,
      "outputs": []
    },
    {
      "cell_type": "code",
      "metadata": {
        "colab": {
          "base_uri": "https://localhost:8080/"
        },
        "id": "7lwFd3ffPPUf",
        "outputId": "261ca55f-c83f-4ecc-952c-b3e2179313b0"
      },
      "source": [
        "text_ru_cleaned = process_text(text_ru)\n",
        "print(text_ru_cleaned[:200])"
      ],
      "execution_count": 59,
      "outputs": [
        {
          "output_type": "stream",
          "text": [
            "война и мир самый известный роман льва николаевича толстого как никакое другое произведение писателя отражает глубину его мироощущения и философииэта книга из разряда вечных потому что она обо всем о \n"
          ],
          "name": "stdout"
        }
      ]
    },
    {
      "cell_type": "code",
      "metadata": {
        "colab": {
          "base_uri": "https://localhost:8080/"
        },
        "id": "CkgwkunBkGM2",
        "outputId": "143943ba-95e8-4d58-f736-4878323da40f"
      },
      "source": [
        "# Частотность букв по корпусам\n",
        "corpus_freq = Counter(text_ru_cleaned)\n",
        "print(corpus_freq)"
      ],
      "execution_count": 60,
      "outputs": [
        {
          "output_type": "stream",
          "text": [
            "Counter({' ': 385114, 'о': 223691, 'е': 166169, 'а': 162313, 'н': 133258, 'и': 129712, 'т': 115258, 'с': 103252, 'л': 98191, 'в': 91386, 'р': 80859, 'к': 67788, 'д': 58019, 'м': 56467, 'у': 53583, 'п': 47940, 'я': 42921, 'ь': 38351, 'г': 36870, 'ы': 36447, 'б': 34028, 'з': 32723, 'ч': 31207, 'ж': 21480, 'й': 21072, 'ш': 17158, 'х': 15586, 'ю': 12307, 'э': 6648, 'ц': 6172, 'щ': 5568, 'ф': 2990, 'ъ': 695, 'ё': 462})\n"
          ],
          "name": "stdout"
        }
      ]
    },
    {
      "cell_type": "code",
      "metadata": {
        "id": "hi5kDa2Ol4aB"
      },
      "source": [
        "example_text_1 = process_text(example_texts[0])\n",
        "example_text_2 = process_text(example_texts[1])\n",
        "example_text_3 = process_text(example_texts[2])"
      ],
      "execution_count": 62,
      "outputs": []
    },
    {
      "cell_type": "code",
      "metadata": {
        "id": "btVUZHJXsQVX"
      },
      "source": [
        "# Делаем ключ для шифрования текста\n",
        "random.seed(23)\n",
        "key = list(RU_ABC)\n",
        "shuffle(key)"
      ],
      "execution_count": 84,
      "outputs": []
    },
    {
      "cell_type": "code",
      "metadata": {
        "id": "nN5jq723mcao"
      },
      "source": [
        "# Зашифрованные примеры текстов\n",
        "ciphertext_1 = encrypt_text(example_text_1)\n",
        "ciphertext_2 = encrypt_text(example_text_2)\n",
        "ciphertext_3 = encrypt_text(example_text_3)"
      ],
      "execution_count": 85,
      "outputs": []
    },
    {
      "cell_type": "code",
      "metadata": {
        "id": "tHvLd9hXwGqy"
      },
      "source": [
        "# Расшифрованные тексты\n",
        "decrypt_text_1 = decrypt_text(ciphertext_1, corpus_freq)\n",
        "decrypt_text_2 = decrypt_text(ciphertext_2, corpus_freq)\n",
        "decrypt_text_3 = decrypt_text(ciphertext_3, corpus_freq)"
      ],
      "execution_count": 144,
      "outputs": []
    },
    {
      "cell_type": "code",
      "metadata": {
        "colab": {
          "base_uri": "https://localhost:8080/"
        },
        "id": "XR7gD99j0G2A",
        "outputId": "93e50357-5e83-4a90-b8af-52d3fc4c87d8"
      },
      "source": [
        "print(f'Расшифрованный текст №1: \\n{decrypt_text_1} \\nсовпадение символов: {round(get_accuracy(example_text_1, decrypt_text_1), 2)}')\n",
        "print(f'Расшифрованный текст №2: \\n{decrypt_text_2} \\nсовпадение символов: {round(get_accuracy(example_text_2, decrypt_text_2), 2)}')\n",
        "print(f'Расшифрованный текст №3: \\n{decrypt_text_3} \\nсовпадение символов: {round(get_accuracy(example_text_3, decrypt_text_3), 2)}')"
      ],
      "execution_count": 181,
      "outputs": [
        {
          "output_type": "stream",
          "text": [
            "Расшифрованный текст №1: \n",
            "н то нвигп уеу м вортондч тесюинела н яели йиртох есьлия ыок янмуа от мртелорта шелжйананйач гмядуестон а мртелди ошаюаестд а ыоневе ьотонала мзас р ьвешог биямчондг ркилелрп йиртох мзи мкев коутове обэпнала цто секизкд у ндяковонлисащ сит болжсогм кесе бдле ьлмчеп арыоникж а ывацертаи килела ываьотонлисап клп робовонесап а н коги бдле рмитсп а твиноье озакесап обдусониссди н теуаи гасмтд нси коге яе новотега толыаларж рувднепрж от ыокэиязещфач ъуаыезих ьвобонфауа озакеп боьетоьо яеуеяе се ыочовосд ьвеше \n",
            "совпадение символов: 0.35\n",
            "Расшифрованный текст №2: \n",
            "пмад даыитыинм те тнар петилетосмнч нтеаш дукетеьисавмлиха лопдотивнч к ьитолбику кеседяш ело ару укогово кок севмке олло рижошветло нкдявонм ел горасив бсе тгйвчья тнаж зятыиж т керлоса зевмыа бар н вюзепяснстер и н убонсиар унсдаривинм ло лайе ел горасив бсе тна падаыапсятовинм укогяточ ло лайе йвогори кок зуьсе не нсдожер и ьоэа н пеьезенсдонсиар \n",
            "совпадение символов: 0.29\n",
            "Расшифрованный текст №3: \n",
            "княгне ретья даыдтесилевь д вдаш карнесб в зтбвснур ивмбзеннур дутегониор касатао топка макипела оо и полела оо ноктевидао чалоыноннао лиха оюо чалоо ноктевидур воле ые вдаж мивьроннуж всал бвседлоннуж риниесштнури матстосери и ыеделоннуж состепяри и книзери княгне чуле всаль го човматяпайне кек асох оо матяпайон ане малагиле состепь зоаростии и носотмолида тевмойеселе мивьра \n",
            "совпадение символов: 0.38\n"
          ],
          "name": "stdout"
        }
      ]
    },
    {
      "cell_type": "markdown",
      "metadata": {
        "id": "yhTwyDfs9J1X"
      },
      "source": [
        "**Вывод:** Как видно по качеству текста и по полученному скору - данный метод не эффективный."
      ]
    },
    {
      "cell_type": "markdown",
      "metadata": {
        "id": "7wy5p713PPyS"
      },
      "source": [
        "## 2. Пункт 1 с биграмамми\n",
        "Задачи:\n",
        "* подсчитайте частоты биграмм (т.е. пар последовательных букв) по корпусам;\n",
        "* проведите тестирование аналогично п.1, но при помощи биграмм"
      ]
    },
    {
      "cell_type": "code",
      "metadata": {
        "id": "9AuQ9yMCQfNC"
      },
      "source": [
        "def decrypt_text_with_ngrams(text: str, n_gram: int, origin_ngram_freq: Counter) -> str:\n",
        "  text_n_gram_freq = Counter(ngrams(list(text), n_gram))\n",
        "  text_n_gram_freq = [v[0] for v in text_n_gram_freq.most_common()]\n",
        "  origin_ngram_freq = [v[0] for v in origin_ngram_freq.most_common()]\n",
        "  text_n_gram_freq.extend(list(set(origin_ngram_freq) - set(text_n_gram_freq)))\n",
        "  end = ''.join(origin_ngram_freq[text_n_gram_freq.index(tuple(text[-2:]))])[1]\n",
        "  decrypted_text = ''.join([origin_ngram_freq[text_n_gram_freq.index(tuple(text[i:i+2]))][0] \n",
        "                  for i in range(len(text)) if i < len(text) - 1]) + end\n",
        "  return decrypted_text"
      ],
      "execution_count": 209,
      "outputs": []
    },
    {
      "cell_type": "code",
      "metadata": {
        "id": "1mF2NEFLPi6E"
      },
      "source": [
        "# Частотность биграм по корпусам и примера текста с лучшим скором из пункта 1\n",
        "n_gram = 2\n",
        "text_ngram_freq = Counter(ngrams(list(text_ru_cleaned), n_gram))\n",
        "example_text_ngram_freq = Counter(ngrams(list(example_text_3), n_gram))"
      ],
      "execution_count": 152,
      "outputs": []
    },
    {
      "cell_type": "code",
      "metadata": {
        "colab": {
          "base_uri": "https://localhost:8080/"
        },
        "id": "m3yN-W3YN7_b",
        "outputId": "1ad0436e-b9a5-45a9-e958-ad157704499e"
      },
      "source": [
        "print(f'Количество биграм в оригинальных корпусах: {len(text_ngram_freq)}')\n",
        "print(f'Количество биграм в оригинальных корпусах: {len(example_text_ngram_freq)}')"
      ],
      "execution_count": 153,
      "outputs": [
        {
          "output_type": "stream",
          "text": [
            "Количество биграм в оригинальных корпусах: 854\n",
            "Количество биграм в оригинальных корпусах: 170\n"
          ],
          "name": "stdout"
        }
      ]
    },
    {
      "cell_type": "code",
      "metadata": {
        "id": "GJ8HFr9pRPHc"
      },
      "source": [
        "decrypt_text = decrypt_text_with_ngrams(ciphertext_3, n_gram, text_ngram_freq)"
      ],
      "execution_count": 210,
      "outputs": []
    },
    {
      "cell_type": "code",
      "metadata": {
        "colab": {
          "base_uri": "https://localhost:8080/",
          "height": 67
        },
        "id": "L0pIuq5MY50C",
        "outputId": "ff950734-3584-4ab3-f046-6c2a07b5ce5d"
      },
      "source": [
        "# Полученный результат\n",
        "decrypt_text"
      ],
      "execution_count": 211,
      "outputs": [
        {
          "output_type": "execute_result",
          "data": {
            "application/vnd.google.colaboratory.intrinsic+json": {
              "type": "string"
            },
            "text/plain": [
              "'влвр озсиети ядаееглн пру ю тя о осв гчм ота  кс окнпонсосс ок лнема  хмк окл  тароикоьт эиммооьнланитте ооьнлаейитепдояталанранй сатаресвьныеаланрлаейитепдолок ае ооыо тяе твправ с в  клнси к дор с в заи  гдшх оаит  чеон  аиниоыдпор с в амнеечеааини в но аи влвр ол б о клнбуеаалзоо    бжс о идлекмиинлат    бжс сед от ношун оамнеечиутиусвнеодиниейнмег ееояьрепо отг о отвпракр'"
            ]
          },
          "metadata": {
            "tags": []
          },
          "execution_count": 211
        }
      ]
    },
    {
      "cell_type": "code",
      "metadata": {
        "colab": {
          "base_uri": "https://localhost:8080/"
        },
        "id": "VihS8ZDIY-kM",
        "outputId": "288cd6d1-d499-4db3-c3f5-258531cc6b9d"
      },
      "source": [
        "print(f'Совпадение букв при использовании биграмм: {round(get_accuracy(example_text_3, decrypt_text), 2)}')"
      ],
      "execution_count": 212,
      "outputs": [
        {
          "output_type": "stream",
          "text": [
            "Совпадение букв при использовании биграмм: 0.07\n"
          ],
          "name": "stdout"
        }
      ]
    },
    {
      "cell_type": "markdown",
      "metadata": {
        "id": "D0lWkY8BaMf6"
      },
      "source": [
        "**Вывод:** данный метод показывает результат хуже чем частотный метод по символам, что не удивительно — большая разница между количеством биграмм полученных из корпусов и примера текста, из за чего:\n",
        "1. Проблематично сопоставить частотное распределение биграмм, так как в коротком тексте их слишком мало.\n",
        "2. Появляется больше ошибок из за несоответсвия частотного распредления биграмм."
      ]
    },
    {
      "cell_type": "markdown",
      "metadata": {
        "id": "3Ab0QEmXPjWN"
      },
      "source": [
        "## 3. Метод обучения на основе MCMC-сэмплировании\n",
        "Задачи:\n",
        "* предложите метод обучения перестановки символов в этом задании, основанный на MCMC-сэмплировании, но по-прежнему работающий на основе статистики биграмм;\n",
        "* реализуйте и протестируйте его, убедитесь, что результаты улучшились."
      ]
    },
    {
      "cell_type": "markdown",
      "metadata": {
        "id": "ep0YKxP3cSj3"
      },
      "source": [
        ""
      ]
    },
    {
      "cell_type": "markdown",
      "metadata": {
        "id": "56IG9YWJfFwW"
      },
      "source": [
        "**Комментарий:**\n",
        "Можем рассмотреть текст поделенный на биграммы как Марковскую цепь, где вероятностями перехода по цепи и будут частоты биграмм.\n",
        "\n",
        "Для обучения перестановки ключа шифрования будем считать вероятность пораждения заданного текста как произведение вероятностей биграмм заданного текста.\n",
        "\n",
        "Так как количество возможных перестановок порядка 10 в 34 степени, то для оптимизации воспользуемся MCMC-сэмплированием.\n",
        "\n",
        "Алгоритм действий:\n",
        "1. Выбираем рандомный ключ шифрования.\n",
        "2. Расшифровываем текст с текущим ключом и новым ключем с одной перестановкой.\n",
        "3. Используя скоринговую функцию высчитываем скоры для результатов с использованием текущего и нового ключа.\n",
        "4. Если скор с новым ключом лучше, то делаем его текущим.\n",
        "5. В противном случае \"подбрасываем монетку\" (число от 0 до 1) и если оно меньше отношения скора с новым ключом к скору с текущим ключом, то делаем новый ключ текущим.\n",
        "6. Повторяем с шага 2."
      ]
    },
    {
      "cell_type": "code",
      "metadata": {
        "id": "nByavm--PybM"
      },
      "source": [
        ""
      ],
      "execution_count": 213,
      "outputs": []
    },
    {
      "cell_type": "code",
      "metadata": {
        "id": "gStF6FQAWTzo"
      },
      "source": [
        ""
      ],
      "execution_count": 213,
      "outputs": []
    },
    {
      "cell_type": "code",
      "metadata": {
        "id": "tvMAs4icTIGa"
      },
      "source": [
        ""
      ],
      "execution_count": 213,
      "outputs": []
    },
    {
      "cell_type": "markdown",
      "metadata": {
        "id": "KEaRrCMtPzFV"
      },
      "source": [
        "## 4. Расшифровка сообщения\n",
        "Задача — расшифровать сообщение:\n",
        "←⇠⇒↟↹↷⇊↹↷↟↤↟↨←↹↝⇛⇯↳⇴⇒⇈↝⇊↾↹↟⇒↟↹⇷⇛⇞↨↟↹↝⇛⇯↳⇴⇒⇈↝⇊↾↹↨←⇌⇠↨↹⇙↹⇸↨⇛↙⇛↹⇠⇛⇛↲⇆←↝↟↞↹⇌⇛↨⇛⇯⇊↾↹⇒←↙⇌⇛↹⇷⇯⇛⇞↟↨⇴↨⇈↹⇠⇌⇛⇯←←↹↷⇠←↙⇛↹↷⇊↹↷⇠←↹⇠↤←⇒⇴⇒↟↹⇷⇯⇴↷↟⇒⇈↝⇛↹↟↹⇷⇛⇒⇙⇞↟↨←↹↳⇴⇌⇠↟↳⇴⇒⇈↝⇊↾↹↲⇴⇒⇒↹⇰⇴↹⇷⇛⇠⇒←↤↝←←↹⇞←↨↷←⇯↨⇛←↹⇰⇴↤⇴↝↟←↹⇌⇙⇯⇠⇴↹↘⇛↨↞↹⇌⇛↝←⇞↝⇛↹↞↹↝↟⇞←↙⇛↹↝←↹⇛↲←⇆⇴⇏"
      ]
    },
    {
      "cell_type": "code",
      "metadata": {
        "id": "cBYVfGIOP6j6"
      },
      "source": [
        ""
      ],
      "execution_count": null,
      "outputs": []
    }
  ]
}